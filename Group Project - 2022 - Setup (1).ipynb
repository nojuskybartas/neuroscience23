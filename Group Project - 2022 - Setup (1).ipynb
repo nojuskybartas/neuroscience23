{
 "cells": [
  {
   "cell_type": "markdown",
   "id": "laden-lender",
   "metadata": {},
   "source": [
    "# Cognitive Neuroscience: Group Project 2022\n",
    "\n",
    "## Final Group Project Code Instructions\n",
    "\n",
    "Marijn van Wingerden, Department of Cognitive Science and Artificial Intelligence – Tilburg University Academic Year 21-22"
   ]
  },
  {
   "cell_type": "markdown",
   "id": "reported-smith",
   "metadata": {},
   "source": [
    "In this Jupyter Notebook, you will find the programmatic instructions to complete the Group Project. \n",
    "\n",
    "You will analyse a subset of the trials and conditions from the RITA dataset, as introduced by dr. Roncaglia in the second week of class. Your time-resolved analysis, using the FFT and baseline averaging, will be performed across ALL subjects in a group (Monolinguals, Early Learners, Late Learners) in the dataset, and look for oscillatory activity in relation to the onset of the **critical item** in each sentence (the auxilary verb).\n",
    "\n",
    "Each group will be assigned data from one of the groups:\n",
    "- RM: monolinguals (groups 1-10) + S1\n",
    "- RB: early learners (groups 2-20) + S2\n",
    "- RL: late learners (groups 3-30) + S3\n",
    "\n",
    "All groups will contrast the set of non-ambiguous (NA) sentences to the ambiguous (AM) sentence\n",
    "- Half of the groups will look at irregular rhythm (IR) sentences\n",
    "    - all odd groups (1,3,5, etc.) + S1 + S3\n",
    "- Half of the groups will look at regular rhythm (RR) sentences\n",
    "    - all even groups (2,4,6, etc.) + S2\n",
    "\n",
    "The frequencies of interest will be split along the groups as well\n",
    "- Groups 1,6,11,16,21 and 26 and S1: delta band (1-4 Hz) activity\n",
    "- Groups 2,7,12,17,22 and 27 and S2: theta band (4-8 Hz) activity\n",
    "- Groups 3,8,13,18,23 and 28 and S3: alpha band (8-12 Hz) activity\n",
    "- Groups 4,9,14,19,24 and 29: beta band (15-30 Hz) activity\n",
    "- Groups 5,10,15,20,25 and 30: (low) gamma band (30-60 Hz) activity\n",
    "\n",
    "\n",
    "Example: group 17 will look at data from group RB, IR sentences and analyze the activity in the theta band. \n",
    "You can download the datafiles from: https://surfdrive.surf.nl/files/index.php/s/VUMib8axLPIRXPE\n",
    "\n",
    "All relevant methods have been covered in Worksheets 0-7, with the exception of loading multiple datafiles. Whenever a new method/function is introduced here, it will come with an example. \n"
   ]
  },
  {
   "cell_type": "markdown",
   "id": "forward-stone",
   "metadata": {},
   "source": [
    "## Handing in of your code\n",
    "\n",
    "You can adapt this script template and hand it in as the code component of your Group Assignment Report.\n",
    "\n",
    "Whenever you are asked to make a plot, it should be completed with a meaningful plot title, xlabel and ylabel texts. Figures are started with a Matplotlib figure handle: \"fig_Q2A, ax = plt.subplots;\". This indicates that a link (called handle) to your figure will be saved in the variable, so we can easily check it when checking your scripts. Whenever a naming convention for a variable is given, use it, because it will allow semi-automatic grading of your project script."
   ]
  }
 ],
 "metadata": {
  "kernelspec": {
   "display_name": "Python 3",
   "language": "python",
   "name": "python3"
  },
  "language_info": {
   "codemirror_mode": {
    "name": "ipython",
    "version": 3
   },
   "file_extension": ".py",
   "mimetype": "text/x-python",
   "name": "python",
   "nbconvert_exporter": "python",
   "pygments_lexer": "ipython3",
   "version": "3.7.10"
  },
  "varInspector": {
   "cols": {
    "lenName": 16,
    "lenType": 16,
    "lenVar": 40
   },
   "kernels_config": {
    "python": {
     "delete_cmd_postfix": "",
     "delete_cmd_prefix": "del ",
     "library": "var_list.py",
     "varRefreshCmd": "print(var_dic_list())"
    },
    "r": {
     "delete_cmd_postfix": ") ",
     "delete_cmd_prefix": "rm(",
     "library": "var_list.r",
     "varRefreshCmd": "cat(var_dic_list()) "
    }
   },
   "oldHeight": 303.938,
   "position": {
    "height": "40px",
    "left": "669px",
    "right": "20px",
    "top": "11px",
    "width": "610px"
   },
   "types_to_exclude": [
    "module",
    "function",
    "builtin_function_or_method",
    "instance",
    "_Feature"
   ],
   "varInspector_section_display": "none",
   "window_display": true
  }
 },
 "nbformat": 4,
 "nbformat_minor": 5
}
