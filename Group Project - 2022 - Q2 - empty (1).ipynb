{
 "cells": [
  {
   "cell_type": "markdown",
   "id": "laden-lender",
   "metadata": {},
   "source": [
    "# Cognitive Neuroscience: Group Project 2022\n",
    "\n",
    "## Final Group Project Code Instructions\n",
    "\n",
    "Marijn van Wingerden, Department of Cognitive Science and Artificial Intelligence – Tilburg University Academic Year 21-22"
   ]
  },
  {
   "cell_type": "markdown",
   "id": "forward-stone",
   "metadata": {},
   "source": [
    "## Handing in of your code\n",
    "\n",
    "You can adapt this script template and hand it in as the code component of your Group Assignment Report.\n",
    "\n",
    "Whenever you are asked to make a plot, it should be completed with a meaningful plot title, xlabel and ylabel texts. Figures are started with a Matplotlib figure handle: \"fig_Q2A, ax = plt.subplots;\". This indicates that a link (called handle) to your figure will be saved in the variable, so we can easily check it when checking your scripts. Whenever a naming convention for a variable is given, use it, because it will allow semi-automatic grading of your project script."
   ]
  },
  {
   "cell_type": "markdown",
   "id": "empirical-experience",
   "metadata": {},
   "source": [
    "## Group members:\n",
    "\n",
    "Please list the contributors and their U-numbers here in comments:\n",
    "\n",
    "- \n",
    "-\n",
    "- \n",
    "- \n",
    "- "
   ]
  },
  {
   "cell_type": "markdown",
   "id": "egyptian-corporation",
   "metadata": {},
   "source": [
    "## Setting up: list your modules to import\n",
    "For loading/saving puroposes, we will make use of the **os** package.\n",
    "An example worksheet with instructions on how to use the os package will be provided"
   ]
  },
  {
   "cell_type": "code",
   "execution_count": null,
   "id": "expensive-inventory",
   "metadata": {},
   "outputs": [],
   "source": [
    "%matplotlib notebook\n",
    "\n",
    "import os\n",
    "import numpy as np\n",
    "from pprint import pprint\n",
    "import pandas as pd \n",
    "import matplotlib.pyplot as plt\n",
    "import scipy.fft as fft\n",
    "plt.rcParams.update({'font.size': 8}) # adjust if needed"
   ]
  },
  {
   "cell_type": "markdown",
   "id": "exceptional-narrative",
   "metadata": {},
   "source": [
    "## Q2 - explore the data\n",
    "\n",
    "Let's explore this newly combined dataset a little bit. You now have four collections of EEG traces as datasets: \n",
    "- an evoked period around the critical item for NA trials\n",
    "- the corresponding baseline period from each of those trials\n",
    "- an evoked period around the critical item for AM trials\n",
    "- the corresponding baseline period from each of those trials\n",
    "\n",
    "Each dataset has an equal number of trials, which is linked to the design, but in principle there could be more or less trials in one condition compared to the other. However, the Evoked and Base data is always taken from the *same* trial, so they should come in equal numbers.\n",
    "\n",
    "For both periods in the trial, the EEG trace voltage values have been 'baselined', which in this case means that the mean of a designated baseline period has been subtracted from all values, so that the mean over the baseline part of each period is 0 (with some rounding error. \n",
    "- For the Base period, the baseline has been calculated over the interval -0.05s (= -50 ms) to the 0 index. \n",
    "- For the Evoked period, the baseline has been calculated over the interval -0.5s (= -500ms) to the 0 index.\n",
    "\n",
    "### set the time axes\n",
    "\n",
    "Let's start by setting the time index correctly for the base and the evoked periods. Given that the srate = 500 Hz, define time_base and time_evoked as vectors that that match times from the start- to the endpoints of the Base and Evoked periods, respectively. NOTE: you will have seen that the number of samples is one more than you might expect based on the time duration and the sampling rate. This is because both the start and endpoints are included. Here, using linspace is preferred over arange\n",
    "\n",
    "\n"
   ]
  },
  {
   "cell_type": "code",
   "execution_count": null,
   "id": "accessory-particle",
   "metadata": {},
   "outputs": [],
   "source": [
    "srate = 500\n",
    "timestep = ...\n",
    "\n",
    "# use np.linspace\n",
    "time_base = ...\n",
    "time_evoked = ...\n",
    "\n",
    "print(\"shape of the time_base axis:\",...)\n",
    "print(\"shape of the time_evoked axis:\",...)\n",
    "print(\"last sample of time_base:\", ...)\n",
    "print(\"last sample of time_evoked:\", ...)"
   ]
  },
  {
   "cell_type": "markdown",
   "id": "dress-generation",
   "metadata": {},
   "source": [
    "### plot the ERPs\n",
    "\n",
    "If the baselining procedure worked out fine, it should be possible to see this 0-average in the ERP plots for an arbitraty channel and participant.\n",
    "\n",
    "Start by making a figure with 1x2 (1 row, 2 column) subplots. For your ERP, select a random participant from your data, and a random channel. For this particular channel:\n",
    "- make a time vs ERP plot for the baseline period in the 1st subplot\n",
    "    - plot the NA ERP in one color, and the AM ERP in another\n",
    "- make a time vs ERP plot for the evoked period in the 2nd subplot\n",
    "    - plot the NA ERP in one color, and the AM ERP in another\n",
    "- provide proper annotation (subplot title, line label, x- and y-axis labeling\n",
    "- draw a vertical line at the t=0s mark in both plots\n",
    "    - to draw a vertical line in the first subplot, at the appropriate scale, use:\n",
    "    - ax[0].plot([0,0], np.array([-3,3])*np.float_power(10,-6), 'k')\n",
    "    - adjust the float_power parameters to fit your ERP is necessary"
   ]
  },
  {
   "cell_type": "code",
   "execution_count": null,
   "id": "cosmetic-orlando",
   "metadata": {},
   "outputs": [],
   "source": [
    "random_part = ... # e.g. 12\n",
    "random_channel = ... # e.g. 30\n",
    "\n",
    "traces_base_NA = ...\n",
    "traces_base_AM = ...\n",
    "traces_evoked_NA = ...\n",
    "traces_evoked_AM = ...\n",
    "\n",
    "print(\"shape traces_base_NA:\", traces_base_NA.shape)\n",
    "ERP_base_NA = ...\n",
    "ERP_base_AM = ...\n",
    "ERP_evoked_NA = ...\n",
    "ERP_evoked_AM = ...\n",
    "print(\"shape ERP_base_NA\", ERP_base_NA.shape)\n",
    "\n",
    "fig_Q2, ax = plt.subplots(figsize=(10,4), nrows=1, ncols=2) # 1x2 graph\n",
    "\n",
    "# plot the baseline ERP traces in ax[0]\n",
    "\n",
    "##\n",
    "## Your code here\n",
    "##\n",
    "\n",
    "# plot the Evoked ERP traces in ax[1]\n",
    "\n",
    "##\n",
    "## Your code here\n",
    "##\n",
    "\n",
    "plt.show()\n",
    "\n",
    "\n",
    "\n",
    "\n"
   ]
  },
  {
   "cell_type": "markdown",
   "id": "quiet-fiber",
   "metadata": {},
   "source": [
    "Congratulations on completing the assignment!\n",
    "Please check the instructions for submission of your final report in the Canvas Assignment."
   ]
  }
 ],
 "metadata": {
  "kernelspec": {
   "display_name": "Python 3",
   "language": "python",
   "name": "python3"
  },
  "language_info": {
   "codemirror_mode": {
    "name": "ipython",
    "version": 3
   },
   "file_extension": ".py",
   "mimetype": "text/x-python",
   "name": "python",
   "nbconvert_exporter": "python",
   "pygments_lexer": "ipython3",
   "version": "3.7.10"
  },
  "varInspector": {
   "cols": {
    "lenName": 16,
    "lenType": 16,
    "lenVar": 40
   },
   "kernels_config": {
    "python": {
     "delete_cmd_postfix": "",
     "delete_cmd_prefix": "del ",
     "library": "var_list.py",
     "varRefreshCmd": "print(var_dic_list())"
    },
    "r": {
     "delete_cmd_postfix": ") ",
     "delete_cmd_prefix": "rm(",
     "library": "var_list.r",
     "varRefreshCmd": "cat(var_dic_list()) "
    }
   },
   "oldHeight": 277.938,
   "position": {
    "height": "40px",
    "left": "669px",
    "right": "20px",
    "top": "11px",
    "width": "800px"
   },
   "types_to_exclude": [
    "module",
    "function",
    "builtin_function_or_method",
    "instance",
    "_Feature"
   ],
   "varInspector_section_display": "none",
   "window_display": false
  }
 },
 "nbformat": 4,
 "nbformat_minor": 5
}
